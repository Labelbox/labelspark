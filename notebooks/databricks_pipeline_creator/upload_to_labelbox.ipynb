{
 "cells": [
  {
   "cell_type": "code",
   "execution_count": null,
   "metadata": {
    "application/vnd.databricks.v1+cell": {
     "cellMetadata": {
      "byteLimit": 2048000,
      "rowLimit": 10000
     },
     "inputWidgets": {},
     "nuid": "6144032d-0d1c-45b9-af8f-8266653114cc",
     "showTitle": false,
     "title": ""
    }
   },
   "outputs": [],
   "source": [
    "# Import Labelspark (ls) for working with Labelbox and PySpark SQL for working with Spark\n",
    "import labelspark as ls\n",
    "from pyspark.sql import SparkSession\n",
    "\n",
    "# Retrieve the dataset ID from a widget input\n",
    "lb_dataset_id = dbutils.widgets.get(\"dataset_id\")\n",
    "\n",
    "# Retrieve the table path from a widget input\n",
    "table_name = dbutils.widgets.get(\"table_path\")\n",
    "\n",
    "# Retrieve the Labelbox API key from a widget input\n",
    "api_key = dbutils.widgets.get(\"labelbox_api_key\")\n",
    "\n",
    "# Create a SparkSession to work with Spark\n",
    "spark = SparkSession.builder.getOrCreate()\n",
    "\n",
    "# Run a SQL command to describe the extended properties of the table and store the result in table_info\n",
    "table_info = spark.sql(f\"DESCRIBE EXTENDED {table_name}\")\n",
    "\n",
    "# Extract the location from the table information and store it in table_path\n",
    "table_path = table_info.filter(\"col_name == 'Location'\").collect()[0]['data_type']\n",
    "\n",
    "# Create a Labelspark client using the provided API key\n",
    "client = ls.Client(lb_api_key=api_key)\n",
    "\n",
    "# Create data rows from a Delta table, using the specified parameters\n",
    "# dataset_id: ID of the dataset to populate\n",
    "# table_path: Path of the table containing the data\n",
    "# skip_duplicates: Flag to skip duplicate rows\n",
    "# verbose: Flag to print detailed logs\n",
    "# spark: SparkSession object to use for the operation\n",
    "client.create_data_rows_from_delta_table(dataset_id=lb_dataset_id, table_path=table_path, skip_duplicates=True, verbose=True, spark=spark)\n"
   ]
  }
 ],
 "metadata": {
  "application/vnd.databricks.v1+notebook": {
   "dashboards": [],
   "language": "python",
   "notebookMetadata": {
    "pythonIndentUnit": 4
   },
   "notebookName": "widget test",
   "widgets": {}
  },
  "language_info": {
   "name": "python"
  }
 },
 "nbformat": 4,
 "nbformat_minor": 0
}
